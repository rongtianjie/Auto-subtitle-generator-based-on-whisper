{
 "cells": [
  {
   "cell_type": "code",
   "execution_count": 1,
   "metadata": {},
   "outputs": [],
   "source": [
    "import whisper\n",
    "from whisper.utils import get_writer\n",
    "from openai import OpenAI"
   ]
  },
  {
   "cell_type": "code",
   "execution_count": null,
   "metadata": {},
   "outputs": [],
   "source": [
    "model_name = \"base\"\n",
    "model = whisper.load_model(model_name, download_root=\"./models\")\n",
    "\n",
    "audio_path = \"./output_audio.aac\"\n",
    "result = model.transcribe(audio_path, language=None, initial_prompt=None)\n",
    "\n",
    "writer = get_writer(\"srt\", \".\")\n",
    "writer(result, \"output.srt\")"
   ]
  },
  {
   "cell_type": "code",
   "execution_count": 2,
   "metadata": {},
   "outputs": [
    {
     "name": "stdout",
     "output_type": "stream",
     "text": [
      "\"对不起，我不能那样做。\"\n"
     ]
    }
   ],
   "source": [
    "# Point to the local server\n",
    "client = OpenAI(base_url=\"http://localhost:1234/v1\", api_key=\"lm-studio\")\n",
    "\n",
    "completion = client.chat.completions.create(\n",
    "  model=\"lmstudio-community/Meta-Llama-3.1-8B-Instruct-GGUF\",\n",
    "  messages=[\n",
    "    {\"role\": \"system\", \"content\": \"You are a professional translator. You translate a film script from English to Simplified Chinese. You only reply the translated text.\"},\n",
    "    {\"role\": \"user\", \"content\": \"Translate this into Simplified Chinese: 'I'm sorry, I can't do that.'\"},\n",
    "  ],\n",
    "  temperature=0.9,\n",
    "  max_tokens=100\n",
    ")\n",
    "\n",
    "print(completion.choices[0].message.content)"
   ]
  },
  {
   "cell_type": "code",
   "execution_count": 3,
   "metadata": {},
   "outputs": [],
   "source": [
    "import srt\n",
    "from tqdm import tqdm \n",
    "\n",
    "def read_srt_file(file_path):\n",
    "    with open(file_path, 'r', encoding='utf-8') as file:\n",
    "        content = file.read()\n",
    "    return list(srt.parse(content))\n",
    "\n",
    "def write_srt_file(file_path, subtitles):\n",
    "    with open(file_path, 'w', encoding='utf-8') as file:\n",
    "        file.write(srt.compose(subtitles))\n",
    "        \n",
    "def translate_to_chinese(text):\n",
    "    completion = client.chat.completions.create(\n",
    "            model=\"lmstudio-community/Meta-Llama-3.1-8B-Instruct-GGUF\",\n",
    "            messages=[\n",
    "                {\"role\": \"system\", \"content\": \"You are a professional translator. You translate a film script from English to Simplified Chinese. You will only reply the translated text.\"},\n",
    "                {\"role\": \"user\", \"content\": f\"Translate into Simplified Chinese: {text}\"},\n",
    "            ],\n",
    "            temperature=0.9,\n",
    "            max_tokens=100\n",
    "        )\n",
    "    return completion.choices[0].message.content\n",
    "\n",
    "def translate_subtitles(subtitles):\n",
    "    translated_subtitles = []\n",
    "    for subtitle in tqdm(subtitles):\n",
    "        english_text = subtitle.content\n",
    "        chinese_translation = translate_to_chinese(english_text)\n",
    "        # print(f\"Translating: {english_text} -> {chinese_translation}\")\n",
    "        \n",
    "        # Combine English and Chinese in the content\n",
    "        combined_text = f\"{english_text}\\n{chinese_translation}\"\n",
    "        \n",
    "        # Create a new subtitle object with combined text\n",
    "        translated_subtitles.append(srt.Subtitle(index=subtitle.index,\n",
    "                                                 start=subtitle.start,\n",
    "                                                 end=subtitle.end,\n",
    "                                                 content=combined_text))\n",
    "    return translated_subtitles"
   ]
  },
  {
   "cell_type": "code",
   "execution_count": 4,
   "metadata": {},
   "outputs": [
    {
     "name": "stderr",
     "output_type": "stream",
     "text": [
      "100%|██████████| 2514/2514 [18:08<00:00,  2.31it/s]"
     ]
    },
    {
     "name": "stdout",
     "output_type": "stream",
     "text": [
      "Translation complete. Check the file translate.srt for the result.\n"
     ]
    },
    {
     "name": "stderr",
     "output_type": "stream",
     "text": [
      "\n"
     ]
    }
   ],
   "source": [
    "input_srt_file = \"output.srt\"\n",
    "output_srt_file = \"translate.srt\"\n",
    "subtitles = read_srt_file(input_srt_file)\n",
    "translated_subtitles = translate_subtitles(subtitles)\n",
    "write_srt_file(output_srt_file, translated_subtitles)\n",
    "print(f\"Translation complete. Check the file {output_srt_file} for the result.\")"
   ]
  }
 ],
 "metadata": {
  "kernelspec": {
   "display_name": "whisper",
   "language": "python",
   "name": "python3"
  },
  "language_info": {
   "codemirror_mode": {
    "name": "ipython",
    "version": 3
   },
   "file_extension": ".py",
   "mimetype": "text/x-python",
   "name": "python",
   "nbconvert_exporter": "python",
   "pygments_lexer": "ipython3",
   "version": "3.11.9"
  }
 },
 "nbformat": 4,
 "nbformat_minor": 2
}
